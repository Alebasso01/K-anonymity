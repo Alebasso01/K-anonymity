{
 "cells": [
  {
   "cell_type": "code",
   "execution_count": 3,
   "metadata": {},
   "outputs": [
    {
     "name": "stdout",
     "output_type": "stream",
     "text": [
      "Il dataset rispetta la k-anonimity per k compreso tra 3 e 6\n"
     ]
    },
    {
     "data": {
      "text/plain": [
       "True"
      ]
     },
     "execution_count": 3,
     "metadata": {},
     "output_type": "execute_result"
    }
   ],
   "source": [
    "import pandas as pd\n",
    "import matplotlib.pyplot as plt\n",
    "import seaborn as sns\n",
    "\n",
    "def check_k_anonymity(df, quasi_identifiers, k):\n",
    "    # Raggruppare il dataframe per i quasi-identificatori e ottenere la dimensione di ogni gruppo\n",
    "    group_sizes = df.groupby(quasi_identifiers).size()\n",
    "    num_partitions = len(group_sizes)\n",
    "    total_rows = len(df)\n",
    "    \n",
    "    # Verificare se tutti i gruppi hanno almeno k elementi e al massimo k*2 elementi\n",
    "    is_k_anonymous = ((group_sizes >= k)).all()\n",
    "    #is_k_anonymous = ((group_sizes >= k) & (group_sizes <= k*2)).all()\n",
    "\n",
    "    \n",
    "    # Stampa del risultato della verifica di k-anonimity\n",
    "    if is_k_anonymous:\n",
    "        print(f\"Il dataset rispetta la k-anonimity per k compreso tra {k} e {k*2}\")\n",
    "    else:\n",
    "        print(f\"Il dataset non rispetta la k-anonimity per k compreso tra {k} e {k*2}\")\n",
    "        print(\"\\nLe seguenti partizioni non rispettano la k-anonimity:\")\n",
    "        print(group_sizes[(group_sizes < k) | (group_sizes > k*2)])\n",
    "    \n",
    "    return is_k_anonymous\n",
    "\n",
    "# Carica il dataset\n",
    "anonymized_df = pd.read_csv('anonymized.csv')\n",
    "original_df = pd.read_csv('generation/database.csv')   \n",
    "\n",
    "# Definisci i quasi-identificatori e il valore di k\n",
    "quasi_identifiers = ['age', 'gender', 'city', 'education', 'profession']\n",
    "k = 3  # Sostituisci con il valore di k desiderato\n",
    "\n",
    "# Verifica la k-anonimity\n",
    "check_k_anonymity(anonymized_df, quasi_identifiers, k)\n"
   ]
  },
  {
   "cell_type": "markdown",
   "metadata": {},
   "source": [
    "Discernability metric (C_DM)"
   ]
  },
  {
   "cell_type": "code",
   "execution_count": 4,
   "metadata": {},
   "outputs": [],
   "source": [
    "def discernability_penalty(df, qi):\n",
    "    partitions = df.groupby(qi).size()\n",
    "    dp = sum(size**2 for size in partitions)\n",
    "    \n",
    "    return dp"
   ]
  },
  {
   "cell_type": "code",
   "execution_count": 5,
   "metadata": {},
   "outputs": [
    {
     "name": "stdout",
     "output_type": "stream",
     "text": [
      "Discernability Metric (C_DM): 3148\n"
     ]
    },
    {
     "data": {
      "text/plain": [
       "3148"
      ]
     },
     "execution_count": 5,
     "metadata": {},
     "output_type": "execute_result"
    }
   ],
   "source": [
    "discernability_penalty(anonymized_df, quasi_identifiers)"
   ]
  },
  {
   "cell_type": "code",
   "execution_count": null,
   "metadata": {},
   "outputs": [],
   "source": [
    "import matplotlib.pyplot as plt\n",
    "\n",
    "def plot_penalty_vs_k(k_values, penalty_values):\n",
    "    plt.figure(figsize=(8, 4))\n",
    "    \n",
    "    plt.plot(k_values, penalty_values, marker='o', linestyle='-', color='b', label='Penalty')\n",
    "    \n",
    "    plt.xlabel('k')\n",
    "    plt.ylabel('Penalty')\n",
    "    plt.xticks(k_values)\n",
    "    plt.legend()\n",
    "    plt.grid(True, alpha=0.2)  \n",
    "    plt.show()\n",
    "\n",
    "\n",
    "k_values = [2, 3, 5, 10, 25, 50]\n",
    "penalty_values = [2016, 3148, 5958, 16592, 47788, 175000]\n",
    "plot_penalty_vs_k(k_values, penalty_values)\n"
   ]
  },
  {
   "cell_type": "code",
   "execution_count": null,
   "metadata": {},
   "outputs": [],
   "source": [
    "def plot_penalty_vs_attributes(number_of_attributes, penalty_values):\n",
    "    plt.figure(figsize=(8, 4))\n",
    "\n",
    "    plt.plot(number_of_attributes, penalty_values, marker='o', linestyle='-', color='b', label='Penalty')\n",
    "\n",
    "    plt.xlabel('number of attributes')\n",
    "    plt.ylabel('Penalty')\n",
    "\n",
    "    plt.xticks(number_of_attributes)\n",
    "    plt.title('K = 3')\n",
    "    plt.legend()\n",
    "    plt.grid(True, alpha=0.2)  \n",
    "    plt.show()\n",
    "\n",
    "number_of_attributes = [2, 3, 4, 5]\n",
    "penalty_values = [3292, 3184, 3148, 3148]\n",
    "plot_penalty_vs_attributes(number_of_attributes, penalty_values)\n"
   ]
  }
 ],
 "metadata": {
  "kernelspec": {
   "display_name": "myenv",
   "language": "python",
   "name": "python3"
  },
  "language_info": {
   "codemirror_mode": {
    "name": "ipython",
    "version": 3
   },
   "file_extension": ".py",
   "mimetype": "text/x-python",
   "name": "python",
   "nbconvert_exporter": "python",
   "pygments_lexer": "ipython3",
   "version": "3.11.4"
  }
 },
 "nbformat": 4,
 "nbformat_minor": 2
}
