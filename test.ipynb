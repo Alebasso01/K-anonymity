{
 "cells": [
  {
   "cell_type": "code",
   "execution_count": 1,
   "metadata": {},
   "outputs": [
    {
     "name": "stdout",
     "output_type": "stream",
     "text": [
      "Dataset k-anonymized with k = 3 \n"
     ]
    },
    {
     "data": {
      "text/plain": [
       "True"
      ]
     },
     "execution_count": 1,
     "metadata": {},
     "output_type": "execute_result"
    }
   ],
   "source": [
    "import pandas as pd\n",
    "\n",
    "def check_k_anonymity(df, quasi_identifiers, k):\n",
    "    group_sizes = df.groupby(quasi_identifiers).size()\n",
    "       \n",
    "    is_k_anonymous = (group_sizes >= k).all()\n",
    "\n",
    "    if is_k_anonymous:\n",
    "        print(f\"Dataset k-anonymized with k = {k} \")\n",
    "    else:\n",
    "        print(f\"Dataset does not respet k-anonymity with k = {k}\")\n",
    "        print(\"\\nThese partitions does not respect k-anonymity:\")\n",
    "        print(group_sizes[(group_sizes < k)])\n",
    "    \n",
    "    return is_k_anonymous\n",
    "\n",
    "anonymized_df = pd.read_csv('anonymized.csv')\n",
    "original_df = pd.read_csv('generation/database.csv')     \n",
    "\n",
    "quasi_identifiers = ['age', 'gender', 'city', 'education', 'profession']\n",
    "k = 3  \n",
    "check_k_anonymity(anonymized_df, quasi_identifiers, k)\n"
   ]
  },
  {
   "cell_type": "code",
   "execution_count": 2,
   "metadata": {},
   "outputs": [],
   "source": [
    "numerical_qis = ['age']\n",
    "ordinal_qis = ['education', 'gender']\n",
    "categorical_qis = ['city', 'profession']\n",
    "all_qis = categorical_qis + numerical_qis + ordinal_qis"
   ]
  },
  {
   "cell_type": "markdown",
   "metadata": {},
   "source": [
    "Original dataset age average and anonymized dataset age average: "
   ]
  },
  {
   "cell_type": "code",
   "execution_count": 3,
   "metadata": {},
   "outputs": [
    {
     "name": "stdout",
     "output_type": "stream",
     "text": [
      "Media dei range di età in anonymized_df:\n",
      "         age  age_mean\n",
      "0    [66-81]      73.5\n",
      "1    [66-81]      73.5\n",
      "2    [66-81]      73.5\n",
      "3    [66-81]      73.5\n",
      "4    [66-81]      73.5\n",
      "..       ...       ...\n",
      "995  [59-82]      70.5\n",
      "996  [59-82]      70.5\n",
      "997  [22-81]      51.5\n",
      "998  [22-81]      51.5\n",
      "999  [22-81]      51.5\n",
      "\n",
      "[1000 rows x 2 columns]\n",
      "\n",
      "Media complessiva in anonymized_df : 54.2115\n",
      "\n",
      "Media dell'età in original_df:\n",
      "54.464\n"
     ]
    }
   ],
   "source": [
    "import numpy as np\n",
    "\n",
    "def calculate_mean(column):\n",
    "    try:\n",
    "        col_no_brackets = column.strip('[]')\n",
    "        if '-' in col_no_brackets:\n",
    "            # statistic was a range so we calculate the mean\n",
    "            col_split = col_no_brackets.split('-')\n",
    "            return np.mean([int(col_split[0]), int(col_split[1])])\n",
    "        else:\n",
    "            # statistic was mean so it is a float\n",
    "            return float(col_no_brackets)\n",
    "    except (IndexError, ValueError):\n",
    "        return np.nan\n",
    "\n",
    "\n",
    "anonymized_df['age_mean'] = anonymized_df['age'].apply(calculate_mean)\n",
    "anonymized_df_mean = anonymized_df['age_mean'].mean()\n",
    "\n",
    "original_age_mean = original_df['age'].mean()\n",
    "\n",
    "print(\"Media dei range di età in anonymized_df:\")\n",
    "print(anonymized_df[['age', 'age_mean']])\n",
    "print(\"\\nMedia complessiva in anonymized_df :\", anonymized_df_mean)\n",
    "\n",
    "print(\"\\nMedia dell'età in original_df:\")\n",
    "print(original_age_mean)\n"
   ]
  },
  {
   "cell_type": "markdown",
   "metadata": {},
   "source": [
    "Education level average e standard deviation:  "
   ]
  },
  {
   "cell_type": "code",
   "execution_count": 4,
   "metadata": {},
   "outputs": [
    {
     "name": "stdout",
     "output_type": "stream",
     "text": [
      "Mapping of educations:\n",
      "High School: 1\n",
      "Bachelor's Degree: 2\n",
      "Graduate School: 3\n",
      "Master's Degree: 3\n",
      "Doctoral Degree: 3\n",
      "\n",
      "Mean of educations: 1.751\n",
      "Variance of educations: 0.7357347347347346\n"
     ]
    }
   ],
   "source": [
    "import json\n",
    "import pandas as pd\n",
    "\n",
    "with open('generation\\\\json\\\\educations.json', 'r') as f:\n",
    "    education_levels = json.load(f)\n",
    "\n",
    "def create_mapping(levels, start_value=1):  # starting from 1, so we exclude ANY in json files\"\n",
    "    mapping = {}\n",
    "    def recursive_map(levels, current_value):\n",
    "        for level in levels:\n",
    "            if 'categories' in level and level['categories']:\n",
    "                mapping[level['name']] = current_value\n",
    "                for sub_level in level['categories']:\n",
    "                    mapping[sub_level['name']] = current_value\n",
    "                current_value += 1\n",
    "            else:\n",
    "                mapping[level['name']] = current_value\n",
    "                current_value += 1\n",
    "        return current_value\n",
    "\n",
    "    recursive_map(levels['categories'], start_value)\n",
    "    return mapping\n",
    "\n",
    "education_mapping = create_mapping(education_levels)\n",
    "\n",
    "print(\"Mapping of educations:\")\n",
    "for key, value in education_mapping.items():\n",
    "    print(f\"{key}: {value}\")\n",
    "\n",
    "df = pd.read_csv('generation\\\\database.csv')\n",
    "\n",
    "if 'education' not in df.columns:\n",
    "    raise KeyError(\"'education' column not found in the dataset\")\n",
    "\n",
    "df['education'] = df['education'].map(education_mapping)\n",
    "\n",
    "df_filtered = df[df['education'].notna()]\n",
    "\n",
    "mean_education = df_filtered['education'].mean()\n",
    "var_education = df_filtered['education'].var()\n",
    "\n",
    "print(f\"\\nMean of educations: {mean_education}\")\n",
    "print(f\"Variance of educations: {var_education}\")"
   ]
  },
  {
   "cell_type": "markdown",
   "metadata": {},
   "source": [
    "Gender average e standard deviation:  "
   ]
  },
  {
   "cell_type": "code",
   "execution_count": 5,
   "metadata": {},
   "outputs": [
    {
     "name": "stdout",
     "output_type": "stream",
     "text": [
      "Mean of gender: 0.515\n",
      "Variance of gender: 0.250025025025025\n"
     ]
    }
   ],
   "source": [
    "import pandas as pd\n",
    "\n",
    "gender_mapping = {\n",
    "    \"male\": 0,\n",
    "    \"female\": 1\n",
    "}\n",
    "\n",
    "df = pd.read_csv('generation/database.csv')\n",
    "\n",
    "if 'gender' not in df.columns:\n",
    "    raise KeyError(\"'gender' column not found in the dataset\")\n",
    "\n",
    "df['gender'] = df['gender'].map(gender_mapping)\n",
    "\n",
    "mean_gender = df['gender'].mean()\n",
    "var_gender = df['gender'].var()\n",
    "\n",
    "print(f\"Mean of gender: {mean_gender}\")\n",
    "print(f\"Variance of gender: {var_gender}\")\n"
   ]
  },
  {
   "cell_type": "code",
   "execution_count": 6,
   "metadata": {},
   "outputs": [],
   "source": [
    "def mapping(col):\n",
    "    if col == 'education':\n",
    "        return education_mapping\n",
    "    elif col == 'gender':\n",
    "        return gender_mapping"
   ]
  },
  {
   "cell_type": "markdown",
   "metadata": {},
   "source": [
    "Complete Statistical Analysis:"
   ]
  },
  {
   "cell_type": "code",
   "execution_count": 7,
   "metadata": {},
   "outputs": [],
   "source": [
    "def statistical_analysis(original_df, anonymized_df, numerical_qis, categorical_qis, ordinal_qis):\n",
    "   \n",
    "    original_df = original_df[all_qis]\n",
    "    anonymized_df = anonymized_df[all_qis]\n",
    "\n",
    "    print(\"Analysis of numerical columns:\")\n",
    "    for col in numerical_qis:\n",
    "        anonymized_df[col] = anonymized_df[col].apply(calculate_mean)\n",
    "        \n",
    "        mean_original = original_df[col].mean()\n",
    "        mean_anonymized = anonymized_df[col].mean()\n",
    "        std_original = original_df[col].std()\n",
    "        std_anonymized = anonymized_df[col].std()\n",
    "\n",
    "        print(f\"Column: {col}\")\n",
    "        print(f\"  Original mean: {mean_original}\")\n",
    "        print(f\"  Anonymized mean: {mean_anonymized}\")\n",
    "        print(f\"  Original standard deviation: {std_original}\")\n",
    "        print(f\"  Anonymized standard deviation: {std_anonymized}\")\n",
    "        \n",
    "    print(\"Analysis of ordinal categorical columns:\")\n",
    "    for col in ordinal_qis:\n",
    "        col_mapping = mapping(col)\n",
    "        anonymized_df[col] = anonymized_df[col].map(col_mapping)\n",
    "        original_df[col] = original_df[col].map(col_mapping)\n",
    "        \n",
    "        anonymized_filtered = anonymized_df[anonymized_df[col].notna()]\n",
    "        original_filtered = original_df[original_df[col].notna()]\n",
    "        \n",
    "        mean_anonymized = anonymized_filtered[col].mean()\n",
    "        std_anonymized = anonymized_filtered[col].var()\n",
    "        mean_original = original_filtered[col].mean()\n",
    "        std_original = original_filtered[col].var()\n",
    "        \n",
    "        print(f\"Column: {col}\")\n",
    "        print(f\"  Original mean: {mean_original}\")\n",
    "        print(f\"  Anonymized mean: {mean_anonymized}\")\n",
    "        print(f\"  Original variance: {std_original}\")\n",
    "        print(f\"  Anonymized variance: {std_anonymized}\")\n"
   ]
  },
  {
   "cell_type": "code",
   "execution_count": 8,
   "metadata": {},
   "outputs": [
    {
     "name": "stdout",
     "output_type": "stream",
     "text": [
      "Analysis of numerical columns:\n",
      "Column: age\n",
      "  Original mean: 54.464\n",
      "  Anonymized mean: 54.2115\n",
      "  Original standard deviation: 18.735253233242236\n",
      "  Anonymized standard deviation: 10.013330341826068\n",
      "Analysis of ordinal categorical columns:\n",
      "Column: education\n",
      "  Original mean: 1.751\n",
      "  Anonymized mean: 1.1724137931034482\n",
      "  Original variance: 0.7357347347347346\n",
      "  Anonymized variance: 0.212876220849113\n",
      "Column: gender\n",
      "  Original mean: 0.515\n",
      "  Anonymized mean: 0.563265306122449\n",
      "  Original variance: 0.250025025025025\n",
      "  Anonymized variance: 0.24700568752091007\n"
     ]
    },
    {
     "name": "stderr",
     "output_type": "stream",
     "text": [
      "C:\\Users\\aleba\\AppData\\Local\\Temp\\ipykernel_21516\\765982035.py:8: SettingWithCopyWarning: \n",
      "A value is trying to be set on a copy of a slice from a DataFrame.\n",
      "Try using .loc[row_indexer,col_indexer] = value instead\n",
      "\n",
      "See the caveats in the documentation: https://pandas.pydata.org/pandas-docs/stable/user_guide/indexing.html#returning-a-view-versus-a-copy\n",
      "  anonymized_df[col] = anonymized_df[col].apply(calculate_mean)\n",
      "C:\\Users\\aleba\\AppData\\Local\\Temp\\ipykernel_21516\\765982035.py:24: SettingWithCopyWarning: \n",
      "A value is trying to be set on a copy of a slice from a DataFrame.\n",
      "Try using .loc[row_indexer,col_indexer] = value instead\n",
      "\n",
      "See the caveats in the documentation: https://pandas.pydata.org/pandas-docs/stable/user_guide/indexing.html#returning-a-view-versus-a-copy\n",
      "  anonymized_df[col] = anonymized_df[col].map(col_mapping)\n",
      "C:\\Users\\aleba\\AppData\\Local\\Temp\\ipykernel_21516\\765982035.py:25: SettingWithCopyWarning: \n",
      "A value is trying to be set on a copy of a slice from a DataFrame.\n",
      "Try using .loc[row_indexer,col_indexer] = value instead\n",
      "\n",
      "See the caveats in the documentation: https://pandas.pydata.org/pandas-docs/stable/user_guide/indexing.html#returning-a-view-versus-a-copy\n",
      "  original_df[col] = original_df[col].map(col_mapping)\n",
      "C:\\Users\\aleba\\AppData\\Local\\Temp\\ipykernel_21516\\765982035.py:24: SettingWithCopyWarning: \n",
      "A value is trying to be set on a copy of a slice from a DataFrame.\n",
      "Try using .loc[row_indexer,col_indexer] = value instead\n",
      "\n",
      "See the caveats in the documentation: https://pandas.pydata.org/pandas-docs/stable/user_guide/indexing.html#returning-a-view-versus-a-copy\n",
      "  anonymized_df[col] = anonymized_df[col].map(col_mapping)\n",
      "C:\\Users\\aleba\\AppData\\Local\\Temp\\ipykernel_21516\\765982035.py:25: SettingWithCopyWarning: \n",
      "A value is trying to be set on a copy of a slice from a DataFrame.\n",
      "Try using .loc[row_indexer,col_indexer] = value instead\n",
      "\n",
      "See the caveats in the documentation: https://pandas.pydata.org/pandas-docs/stable/user_guide/indexing.html#returning-a-view-versus-a-copy\n",
      "  original_df[col] = original_df[col].map(col_mapping)\n"
     ]
    }
   ],
   "source": [
    "statistical_analysis(original_df, anonymized_df, numerical_qis, categorical_qis, ordinal_qis)"
   ]
  },
  {
   "cell_type": "code",
   "execution_count": null,
   "metadata": {},
   "outputs": [],
   "source": []
  },
  {
   "cell_type": "code",
   "execution_count": null,
   "metadata": {},
   "outputs": [],
   "source": []
  },
  {
   "cell_type": "code",
   "execution_count": null,
   "metadata": {},
   "outputs": [],
   "source": []
  },
  {
   "cell_type": "code",
   "execution_count": null,
   "metadata": {},
   "outputs": [],
   "source": []
  },
  {
   "cell_type": "code",
   "execution_count": null,
   "metadata": {},
   "outputs": [],
   "source": []
  },
  {
   "cell_type": "code",
   "execution_count": null,
   "metadata": {},
   "outputs": [],
   "source": []
  },
  {
   "cell_type": "code",
   "execution_count": null,
   "metadata": {},
   "outputs": [],
   "source": []
  },
  {
   "cell_type": "code",
   "execution_count": null,
   "metadata": {},
   "outputs": [],
   "source": []
  },
  {
   "cell_type": "code",
   "execution_count": null,
   "metadata": {},
   "outputs": [],
   "source": []
  },
  {
   "cell_type": "code",
   "execution_count": null,
   "metadata": {},
   "outputs": [],
   "source": []
  }
 ],
 "metadata": {
  "kernelspec": {
   "display_name": "Python 3",
   "language": "python",
   "name": "python3"
  },
  "language_info": {
   "codemirror_mode": {
    "name": "ipython",
    "version": 3
   },
   "file_extension": ".py",
   "mimetype": "text/x-python",
   "name": "python",
   "nbconvert_exporter": "python",
   "pygments_lexer": "ipython3",
   "version": "3.12.1"
  }
 },
 "nbformat": 4,
 "nbformat_minor": 2
}
