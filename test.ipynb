{
 "cells": [
  {
   "cell_type": "code",
   "execution_count": 7,
   "metadata": {},
   "outputs": [
    {
     "name": "stdout",
     "output_type": "stream",
     "text": [
      "Il dataset rispetta la k-anonimity per k compreso tra 3 e 6\n"
     ]
    },
    {
     "data": {
      "text/plain": [
       "True"
      ]
     },
     "execution_count": 7,
     "metadata": {},
     "output_type": "execute_result"
    }
   ],
   "source": [
    "import pandas as pd\n",
    "import matplotlib.pyplot as plt\n",
    "import seaborn as sns\n",
    "\n",
    "def check_k_anonymity(df, quasi_identifiers, k):\n",
    "    # Raggruppare il dataframe per i quasi-identificatori e ottenere la dimensione di ogni gruppo\n",
    "    group_sizes = df.groupby(quasi_identifiers).size()\n",
    "    num_partitions = len(group_sizes)\n",
    "    total_rows = len(df)\n",
    "    \n",
    "    # Verificare se tutti i gruppi hanno almeno k elementi e al massimo k*2 elementi\n",
    "    is_k_anonymous = ((group_sizes >= k) & (group_sizes <= k*2)).all()\n",
    "    \n",
    "    # Stampa del risultato della verifica di k-anonimity\n",
    "    if is_k_anonymous:\n",
    "        print(f\"Il dataset rispetta la k-anonimity per k compreso tra {k} e {k*2}\")\n",
    "    else:\n",
    "        print(f\"Il dataset non rispetta la k-anonimity per k compreso tra {k} e {k*2}\")\n",
    "        print(\"\\nLe seguenti partizioni non rispettano la k-anonimity:\")\n",
    "        print(group_sizes[(group_sizes < k) | (group_sizes > k*2)])\n",
    "    \n",
    "    return is_k_anonymous\n",
    "\n",
    "# Carica il dataset\n",
    "anonymized_df = pd.read_csv('anonymized.csv')\n",
    "original_df = pd.read_csv('generation/database.csv')   \n",
    "\n",
    "# Definisci i quasi-identificatori e il valore di k\n",
    "quasi_identifiers = ['age', 'gender', 'city', 'education', 'profession']\n",
    "k = 3  # Sostituisci con il valore di k desiderato\n",
    "\n",
    "# Verifica la k-anonimity\n",
    "check_k_anonymity(anonymized_df, quasi_identifiers, k)\n"
   ]
  },
  {
   "cell_type": "code",
   "execution_count": 8,
   "metadata": {},
   "outputs": [],
   "source": [
    "numerical_qis = ['age']\n",
    "categorical_qis = ['gender', 'city', 'education', 'profession']\n",
    "all_qis = categorical_qis + numerical_qis"
   ]
  },
  {
   "cell_type": "code",
   "execution_count": 9,
   "metadata": {},
   "outputs": [
    {
     "name": "stdout",
     "output_type": "stream",
     "text": [
      "Media dei range di età in anonymized_df:\n",
      "         age  age_mean\n",
      "0    [70-75]      72.5\n",
      "1    [70-75]      72.5\n",
      "2    [70-75]      72.5\n",
      "3    [26-72]      49.0\n",
      "4    [26-72]      49.0\n",
      "..       ...       ...\n",
      "995  [25-30]      27.5\n",
      "996  [25-30]      27.5\n",
      "997  [19-85]      52.0\n",
      "998  [19-85]      52.0\n",
      "999  [19-85]      52.0\n",
      "\n",
      "[1000 rows x 2 columns]\n",
      "\n",
      "Media dell'età in original_df:\n",
      "53.646\n"
     ]
    }
   ],
   "source": [
    "import pandas as pd\n",
    "import numpy as np\n",
    "\n",
    "# Funzione per calcolare la media di un range di età\n",
    "def calculate_mean(column):\n",
    "    try:\n",
    "        # Rimuoviamo parentesi quadre, se presenti\n",
    "        col_range = column.strip('[]')\n",
    "        # Dividiamo il range in due numeri\n",
    "        col_split = col_range.split('-')\n",
    "        # Calcoliamo la media\n",
    "        return np.mean([int(col_split[0]), int(col_split[1])])\n",
    "    except (IndexError, ValueError):\n",
    "        # Se c'è un errore nell'indicizzazione o nella conversione, restituisci NaN\n",
    "        return np.nan\n",
    "\n",
    "\n",
    "# Calcoliamo la media dei range di età in anonymized_df\n",
    "anonymized_df['age_mean'] = anonymized_df['age'].apply(calculate_mean)\n",
    "\n",
    "# Calcoliamo la media dell'età in original_df\n",
    "original_age_mean = original_df['age'].mean()\n",
    "\n",
    "# Stampa dei risultati\n",
    "print(\"Media dei range di età in anonymized_df:\")\n",
    "print(anonymized_df[['age', 'age_mean']])\n",
    "\n",
    "print(\"\\nMedia dell'età in original_df:\")\n",
    "print(original_age_mean)\n"
   ]
  },
  {
   "cell_type": "code",
   "execution_count": 10,
   "metadata": {},
   "outputs": [
    {
     "name": "stdout",
     "output_type": "stream",
     "text": [
      "Moda degli attributi categorici per anonymized_df:\n",
      "gender           ANY-GENDER\n",
      "city                    USA\n",
      "age                   35-86\n",
      "profession          ANY-JOB\n",
      "education     ANY-EDUCATION\n",
      "Name: 0, dtype: object\n",
      "\n",
      "Moda degli attributi categorici per original_df:\n",
      "gender                    Female\n",
      "city                     Houston\n",
      "age                           48\n",
      "profession    Classical Composer\n",
      "education            High School\n",
      "Name: 0, dtype: object\n"
     ]
    }
   ],
   "source": [
    "import pandas as pd\n",
    "import numpy as np\n",
    "\n",
    "# Funzione per rimuovere parentesi quadre\n",
    "def remove_brackets(value):\n",
    "    return value.strip('[]')\n",
    "\n",
    "# Funzione per calcolare la moda degli attributi categorici\n",
    "def calculate_mode(df, categorical_qis):\n",
    "    # Controllo per determinare se il DataFrame ha parentesi quadre nei valori\n",
    "    if '[' in df.iloc[0][categorical_qis[0]]:\n",
    "        # Se ci sono parentesi quadre, applica la funzione remove_brackets\n",
    "        for col in categorical_qis:\n",
    "            df[col] = df[col].apply(remove_brackets)\n",
    "\n",
    "    # Calcola la moda per le colonne categoriche\n",
    "    modes = df[categorical_qis].mode().iloc[0]\n",
    "\n",
    "    return modes\n",
    "\n",
    "# Esempio di utilizzo con entrambi i DataFrame\n",
    "if __name__ == \"__main__\":\n",
    "    # Carica il DataFrame anonymized_df (sostituire con il caricamento effettivo del file)\n",
    "    anonymized_df = pd.read_csv('anonymized.csv')\n",
    "\n",
    "    # Carica il DataFrame original_df (sostituire con il caricamento effettivo del file)\n",
    "    original_df = pd.read_csv('generation/database.csv')\n",
    "\n",
    "    # Definisci i quasi identificatori categorici\n",
    "    categorical_qis = ['gender', 'city', 'age', 'profession', 'education']\n",
    "\n",
    "    # Calcola la moda degli attributi categorici per anonymized_df\n",
    "    modes_anonymized = calculate_mode(anonymized_df, categorical_qis)\n",
    "    print(\"Moda degli attributi categorici per anonymized_df:\")\n",
    "    print(modes_anonymized)\n",
    "\n",
    "    # Calcola la moda degli attributi categorici per original_df\n",
    "    modes_original = calculate_mode(original_df, categorical_qis)\n",
    "    print(\"\\nModa degli attributi categorici per original_df:\")\n",
    "    print(modes_original)\n"
   ]
  },
  {
   "cell_type": "code",
   "execution_count": 11,
   "metadata": {},
   "outputs": [],
   "source": [
    "def statistical_analysis(original_df, anonymized_df, numerical_qis, categorical_qis):\n",
    "    \"\"\" Esegue un'analisi statistica comparativa tra il dataset originale e quello anonimizzato \"\"\"\n",
    "   \n",
    "    # Filtra i dataset per considerare solo le colonne di interesse\n",
    "    original_df = original_df[all_qis]\n",
    "    anonymized_df = anonymized_df[all_qis]\n",
    "\n",
    "    # Analisi delle colonne numeriche\n",
    "    print(\"Analisi delle colonne numeriche:\")\n",
    "    for col in numerical_qis:\n",
    "        anonymized_df[col] = anonymized_df[col].apply(calculate_mean)\n",
    "        \n",
    "        mean_original = original_df[col].mean()\n",
    "        mean_anonymized = anonymized_df[col].mean()\n",
    "        std_original = original_df[col].std()\n",
    "        std_anonymized = anonymized_df[col].std()\n",
    "\n",
    "        print(f\"Colonna: {col}\")\n",
    "        print(f\"  Media originale: {mean_original}\")\n",
    "        print(f\"  Media anonimizzata: {mean_anonymized}\")\n",
    "        print(f\"  Deviazione standard originale: {std_original}\")\n",
    "        print(f\"  Deviazione standard anonimizzata: {std_anonymized}\")\n",
    "\n",
    "    # Analisi delle colonne categoriche\n",
    "    print(\"Analisi delle colonne categoriche:\")\n",
    "    modes_original = calculate_mode(original_df, categorical_qis)\n",
    "    modes_anonymized = calculate_mode(anonymized_df, categorical_qis)\n",
    "    \n",
    "    for col in categorical_qis:\n",
    "        print(f\"Colonna: {col}\")\n",
    "        print(f\"  Moda originale: {modes_original[col]}\")\n",
    "        print(f\"  Moda anonimizzata: {modes_anonymized[col]}\")\n"
   ]
  },
  {
   "cell_type": "code",
   "execution_count": 12,
   "metadata": {},
   "outputs": [
    {
     "name": "stdout",
     "output_type": "stream",
     "text": [
      "Analisi delle colonne numeriche:\n",
      "Colonna: age\n",
      "  Media originale: 53.646\n",
      "  Media anonimizzata: 53.6125\n",
      "  Deviazione standard originale: 20.907314504732543\n",
      "  Deviazione standard anonimizzata: 11.765862878653621\n",
      "Analisi delle colonne categoriche:\n",
      "Colonna: gender\n",
      "  Moda originale: Female\n",
      "  Moda anonimizzata: ANY-GENDER\n",
      "Colonna: city\n",
      "  Moda originale: Houston\n",
      "  Moda anonimizzata: USA\n",
      "Colonna: age\n",
      "  Moda originale: 48\n",
      "  Moda anonimizzata: 52.0\n",
      "Colonna: profession\n",
      "  Moda originale: Classical Composer\n",
      "  Moda anonimizzata: ANY-JOB\n",
      "Colonna: education\n",
      "  Moda originale: High School\n",
      "  Moda anonimizzata: ANY-EDUCATION\n"
     ]
    },
    {
     "name": "stderr",
     "output_type": "stream",
     "text": [
      "C:\\Users\\aleba\\AppData\\Local\\Temp\\ipykernel_8548\\1317917204.py:11: SettingWithCopyWarning: \n",
      "A value is trying to be set on a copy of a slice from a DataFrame.\n",
      "Try using .loc[row_indexer,col_indexer] = value instead\n",
      "\n",
      "See the caveats in the documentation: https://pandas.pydata.org/pandas-docs/stable/user_guide/indexing.html#returning-a-view-versus-a-copy\n",
      "  anonymized_df[col] = anonymized_df[col].apply(calculate_mean)\n"
     ]
    }
   ],
   "source": [
    "statistical_analysis(original_df, anonymized_df, numerical_qis, categorical_qis)\n"
   ]
  },
  {
   "cell_type": "code",
   "execution_count": null,
   "metadata": {},
   "outputs": [],
   "source": []
  },
  {
   "cell_type": "code",
   "execution_count": null,
   "metadata": {},
   "outputs": [],
   "source": []
  },
  {
   "cell_type": "code",
   "execution_count": null,
   "metadata": {},
   "outputs": [],
   "source": []
  },
  {
   "cell_type": "code",
   "execution_count": null,
   "metadata": {},
   "outputs": [],
   "source": []
  },
  {
   "cell_type": "code",
   "execution_count": null,
   "metadata": {},
   "outputs": [],
   "source": []
  },
  {
   "cell_type": "code",
   "execution_count": null,
   "metadata": {},
   "outputs": [],
   "source": []
  },
  {
   "cell_type": "code",
   "execution_count": null,
   "metadata": {},
   "outputs": [],
   "source": []
  }
 ],
 "metadata": {
  "kernelspec": {
   "display_name": "Python 3",
   "language": "python",
   "name": "python3"
  },
  "language_info": {
   "codemirror_mode": {
    "name": "ipython",
    "version": 3
   },
   "file_extension": ".py",
   "mimetype": "text/x-python",
   "name": "python",
   "nbconvert_exporter": "python",
   "pygments_lexer": "ipython3",
   "version": "3.12.1"
  }
 },
 "nbformat": 4,
 "nbformat_minor": 2
}
