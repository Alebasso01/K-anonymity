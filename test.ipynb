{
 "cells": [
  {
   "cell_type": "code",
   "execution_count": 1,
   "metadata": {},
   "outputs": [
    {
     "name": "stdout",
     "output_type": "stream",
     "text": [
      "Il dataset rispetta la k-anonimity per k compreso tra 3 e 6\n"
     ]
    },
    {
     "data": {
      "text/plain": [
       "True"
      ]
     },
     "execution_count": 1,
     "metadata": {},
     "output_type": "execute_result"
    }
   ],
   "source": [
    "import pandas as pd\n",
    "import matplotlib.pyplot as plt\n",
    "import seaborn as sns\n",
    "\n",
    "def check_k_anonymity(df, quasi_identifiers, k):\n",
    "    # Raggruppare il dataframe per i quasi-identificatori e ottenere la dimensione di ogni gruppo\n",
    "    group_sizes = df.groupby(quasi_identifiers).size()\n",
    "    num_partitions = len(group_sizes)\n",
    "    total_rows = len(df)\n",
    "    \n",
    "    # Verificare se tutti i gruppi hanno almeno k elementi e al massimo k*2 elementi\n",
    "    is_k_anonymous = ((group_sizes >= k) & (group_sizes <= k*2)).all()\n",
    "    \n",
    "    # Stampa del risultato della verifica di k-anonimity\n",
    "    if is_k_anonymous:\n",
    "        print(f\"Il dataset rispetta la k-anonimity per k compreso tra {k} e {k*2}\")\n",
    "    else:\n",
    "        print(f\"Il dataset non rispetta la k-anonimity per k compreso tra {k} e {k*2}\")\n",
    "        print(\"\\nLe seguenti partizioni non rispettano la k-anonimity:\")\n",
    "        print(group_sizes[(group_sizes < k) | (group_sizes > k*2)])\n",
    "    \n",
    "    return is_k_anonymous\n",
    "\n",
    "# Carica il dataset\n",
    "anonymized_df = pd.read_csv('anonymized.csv')\n",
    "original_df = pd.read_csv('generation/database.csv')   \n",
    "\n",
    "# Definisci i quasi-identificatori e il valore di k\n",
    "quasi_identifiers = ['age', 'gender', 'city', 'education', 'profession']\n",
    "k = 3  # Sostituisci con il valore di k desiderato\n",
    "\n",
    "# Verifica la k-anonimity\n",
    "check_k_anonymity(anonymized_df, quasi_identifiers, k)\n"
   ]
  },
  {
   "cell_type": "code",
   "execution_count": 2,
   "metadata": {},
   "outputs": [],
   "source": [
    "numerical_qis = ['age']\n",
    "categorical_qis = ['gender', 'city', 'education', 'profession']\n",
    "all_qis = categorical_qis + numerical_qis"
   ]
  },
  {
   "cell_type": "code",
   "execution_count": 3,
   "metadata": {},
   "outputs": [
    {
     "name": "stdout",
     "output_type": "stream",
     "text": [
      "Media dei range di età in anonymized_df:\n",
      "         age  age_mean\n",
      "0    [22-72]      47.0\n",
      "1    [22-72]      47.0\n",
      "2    [22-72]      47.0\n",
      "3    [24-90]      57.0\n",
      "4    [24-90]      57.0\n",
      "..       ...       ...\n",
      "995  [66-86]      76.0\n",
      "996  [66-86]      76.0\n",
      "997  [41-87]      64.0\n",
      "998  [41-87]      64.0\n",
      "999  [41-87]      64.0\n",
      "\n",
      "[1000 rows x 2 columns]\n",
      "\n",
      "Media dell'età in original_df:\n",
      "53.064\n"
     ]
    }
   ],
   "source": [
    "import pandas as pd\n",
    "import numpy as np\n",
    "\n",
    "# Funzione per calcolare la media di un range di età\n",
    "def calculate_mean(column):\n",
    "    try:\n",
    "        # Rimuoviamo parentesi quadre, se presenti\n",
    "        col_range = column.strip('[]')\n",
    "        # Dividiamo il range in due numeri\n",
    "        col_split = col_range.split('-')\n",
    "        # Calcoliamo la media\n",
    "        return np.mean([int(col_split[0]), int(col_split[1])])\n",
    "    except (IndexError, ValueError):\n",
    "        # Se c'è un errore nell'indicizzazione o nella conversione, restituisci NaN\n",
    "        return np.nan\n",
    "\n",
    "\n",
    "# Calcoliamo la media dei range di età in anonymized_df\n",
    "anonymized_df['age_mean'] = anonymized_df['age'].apply(calculate_mean)\n",
    "\n",
    "# Calcoliamo la media dell'età in original_df\n",
    "original_age_mean = original_df['age'].mean()\n",
    "\n",
    "# Stampa dei risultati\n",
    "print(\"Media dei range di età in anonymized_df:\")\n",
    "print(anonymized_df[['age', 'age_mean']])\n",
    "\n",
    "print(\"\\nMedia dell'età in original_df:\")\n",
    "print(original_age_mean)\n"
   ]
  },
  {
   "cell_type": "code",
   "execution_count": 4,
   "metadata": {},
   "outputs": [
    {
     "name": "stdout",
     "output_type": "stream",
     "text": [
      "Moda degli attributi categorici per anonymized_df:\n",
      "gender           ANY-GENDER\n",
      "city                    USA\n",
      "age                   29-84\n",
      "profession          ANY-JOB\n",
      "education     ANY-EDUCATION\n",
      "Name: 0, dtype: object\n",
      "\n",
      "Moda degli attributi categorici per original_df:\n",
      "gender                    Male\n",
      "city                   Atlanta\n",
      "age                         41\n",
      "profession    Highway Engineer\n",
      "education      Master's Degree\n",
      "Name: 0, dtype: object\n"
     ]
    }
   ],
   "source": [
    "import pandas as pd\n",
    "import numpy as np\n",
    "\n",
    "# Funzione per rimuovere parentesi quadre\n",
    "def remove_brackets(value):\n",
    "    return value.strip('[]')\n",
    "\n",
    "# Funzione per calcolare la moda degli attributi categorici\n",
    "def calculate_mode(df, categorical_qis):\n",
    "    # Controllo per determinare se il DataFrame ha parentesi quadre nei valori\n",
    "    if '[' in df.iloc[0][categorical_qis[0]]:\n",
    "        # Se ci sono parentesi quadre, applica la funzione remove_brackets\n",
    "        for col in categorical_qis:\n",
    "            df[col] = df[col].apply(remove_brackets)\n",
    "\n",
    "    # Calcola la moda per le colonne categoriche\n",
    "    modes = df[categorical_qis].mode().iloc[0]\n",
    "\n",
    "    return modes\n",
    "\n",
    "# Esempio di utilizzo con entrambi i DataFrame\n",
    "if __name__ == \"__main__\":\n",
    "    # Carica il DataFrame anonymized_df (sostituire con il caricamento effettivo del file)\n",
    "    anonymized_df = pd.read_csv('anonymized.csv')\n",
    "\n",
    "    # Carica il DataFrame original_df (sostituire con il caricamento effettivo del file)\n",
    "    original_df = pd.read_csv('generation/database.csv')\n",
    "\n",
    "    # Definisci i quasi identificatori categorici\n",
    "    categorical_qis = ['gender', 'city', 'age', 'profession', 'education']\n",
    "\n",
    "    # Calcola la moda degli attributi categorici per anonymized_df\n",
    "    modes_anonymized = calculate_mode(anonymized_df, categorical_qis)\n",
    "    print(\"Moda degli attributi categorici per anonymized_df:\")\n",
    "    print(modes_anonymized)\n",
    "\n",
    "    # Calcola la moda degli attributi categorici per original_df\n",
    "    modes_original = calculate_mode(original_df, categorical_qis)\n",
    "    print(\"\\nModa degli attributi categorici per original_df:\")\n",
    "    print(modes_original)\n"
   ]
  },
  {
   "cell_type": "code",
   "execution_count": 5,
   "metadata": {},
   "outputs": [],
   "source": [
    "def statistical_analysis(original_df, anonymized_df, numerical_qis, categorical_qis):\n",
    "    \"\"\" Esegue un'analisi statistica comparativa tra il dataset originale e quello anonimizzato \"\"\"\n",
    "   \n",
    "    # Filtra i dataset per considerare solo le colonne di interesse\n",
    "    original_df = original_df[all_qis]\n",
    "    anonymized_df = anonymized_df[all_qis]\n",
    "\n",
    "    # Analisi delle colonne numeriche\n",
    "    print(\"Analisi delle colonne numeriche:\")\n",
    "    for col in numerical_qis:\n",
    "        anonymized_df[col] = anonymized_df[col].apply(calculate_mean)\n",
    "        \n",
    "        mean_original = original_df[col].mean()\n",
    "        mean_anonymized = anonymized_df[col].mean()\n",
    "        std_original = original_df[col].std()\n",
    "        std_anonymized = anonymized_df[col].std()\n",
    "\n",
    "        print(f\"Colonna: {col}\")\n",
    "        print(f\"  Media originale: {mean_original}\")\n",
    "        print(f\"  Media anonimizzata: {mean_anonymized}\")\n",
    "        print(f\"  Deviazione standard originale: {std_original}\")\n",
    "        print(f\"  Deviazione standard anonimizzata: {std_anonymized}\")\n",
    "\n",
    "    # Analisi delle colonne categoriche\n",
    "    print(\"Analisi delle colonne categoriche:\")\n",
    "    modes_original = calculate_mode(original_df, categorical_qis)\n",
    "    modes_anonymized = calculate_mode(anonymized_df, categorical_qis)\n",
    "    \n",
    "    for col in categorical_qis:\n",
    "        print(f\"Colonna: {col}\")\n",
    "        print(f\"  Moda originale: {modes_original[col]}\")\n",
    "        print(f\"  Moda anonimizzata: {modes_anonymized[col]}\")\n"
   ]
  },
  {
   "cell_type": "code",
   "execution_count": 6,
   "metadata": {},
   "outputs": [
    {
     "name": "stdout",
     "output_type": "stream",
     "text": [
      "Analisi delle colonne numeriche:\n",
      "Colonna: age\n",
      "  Media originale: 53.064\n",
      "  Media anonimizzata: 53.1925\n",
      "  Deviazione standard originale: 21.203997583321723\n",
      "  Deviazione standard anonimizzata: 11.482488462493281\n",
      "Analisi delle colonne categoriche:\n",
      "Colonna: gender\n",
      "  Moda originale: Male\n",
      "  Moda anonimizzata: ANY-GENDER\n",
      "Colonna: city\n",
      "  Moda originale: Atlanta\n",
      "  Moda anonimizzata: USA\n",
      "Colonna: age\n",
      "  Moda originale: 41\n",
      "  Moda anonimizzata: 52.0\n",
      "Colonna: profession\n",
      "  Moda originale: Highway Engineer\n",
      "  Moda anonimizzata: ANY-JOB\n",
      "Colonna: education\n",
      "  Moda originale: Master's Degree\n",
      "  Moda anonimizzata: ANY-EDUCATION\n"
     ]
    },
    {
     "name": "stderr",
     "output_type": "stream",
     "text": [
      "C:\\Users\\aleba\\AppData\\Local\\Temp\\ipykernel_8996\\1317917204.py:11: SettingWithCopyWarning: \n",
      "A value is trying to be set on a copy of a slice from a DataFrame.\n",
      "Try using .loc[row_indexer,col_indexer] = value instead\n",
      "\n",
      "See the caveats in the documentation: https://pandas.pydata.org/pandas-docs/stable/user_guide/indexing.html#returning-a-view-versus-a-copy\n",
      "  anonymized_df[col] = anonymized_df[col].apply(calculate_mean)\n"
     ]
    }
   ],
   "source": [
    "statistical_analysis(original_df, anonymized_df, numerical_qis, categorical_qis)\n"
   ]
  },
  {
   "cell_type": "code",
   "execution_count": null,
   "metadata": {},
   "outputs": [],
   "source": []
  },
  {
   "cell_type": "code",
   "execution_count": null,
   "metadata": {},
   "outputs": [],
   "source": []
  },
  {
   "cell_type": "code",
   "execution_count": null,
   "metadata": {},
   "outputs": [],
   "source": []
  },
  {
   "cell_type": "code",
   "execution_count": null,
   "metadata": {},
   "outputs": [],
   "source": []
  },
  {
   "cell_type": "code",
   "execution_count": null,
   "metadata": {},
   "outputs": [],
   "source": []
  },
  {
   "cell_type": "code",
   "execution_count": null,
   "metadata": {},
   "outputs": [],
   "source": []
  },
  {
   "cell_type": "code",
   "execution_count": 7,
   "metadata": {},
   "outputs": [
    {
     "ename": "KeyError",
     "evalue": "'zip_code'",
     "output_type": "error",
     "traceback": [
      "\u001b[1;31m---------------------------------------------------------------------------\u001b[0m",
      "\u001b[1;31mKeyError\u001b[0m                                  Traceback (most recent call last)",
      "File \u001b[1;32mc:\\Users\\aleba\\AppData\\Local\\Programs\\Python\\Python312\\Lib\\site-packages\\pandas\\core\\indexes\\base.py:3791\u001b[0m, in \u001b[0;36mIndex.get_loc\u001b[1;34m(self, key)\u001b[0m\n\u001b[0;32m   3790\u001b[0m \u001b[38;5;28;01mtry\u001b[39;00m:\n\u001b[1;32m-> 3791\u001b[0m     \u001b[38;5;28;01mreturn\u001b[39;00m \u001b[38;5;28;43mself\u001b[39;49m\u001b[38;5;241;43m.\u001b[39;49m\u001b[43m_engine\u001b[49m\u001b[38;5;241;43m.\u001b[39;49m\u001b[43mget_loc\u001b[49m\u001b[43m(\u001b[49m\u001b[43mcasted_key\u001b[49m\u001b[43m)\u001b[49m\n\u001b[0;32m   3792\u001b[0m \u001b[38;5;28;01mexcept\u001b[39;00m \u001b[38;5;167;01mKeyError\u001b[39;00m \u001b[38;5;28;01mas\u001b[39;00m err:\n",
      "File \u001b[1;32mindex.pyx:152\u001b[0m, in \u001b[0;36mpandas._libs.index.IndexEngine.get_loc\u001b[1;34m()\u001b[0m\n",
      "File \u001b[1;32mindex.pyx:181\u001b[0m, in \u001b[0;36mpandas._libs.index.IndexEngine.get_loc\u001b[1;34m()\u001b[0m\n",
      "File \u001b[1;32mpandas\\_libs\\hashtable_class_helper.pxi:7080\u001b[0m, in \u001b[0;36mpandas._libs.hashtable.PyObjectHashTable.get_item\u001b[1;34m()\u001b[0m\n",
      "File \u001b[1;32mpandas\\_libs\\hashtable_class_helper.pxi:7088\u001b[0m, in \u001b[0;36mpandas._libs.hashtable.PyObjectHashTable.get_item\u001b[1;34m()\u001b[0m\n",
      "\u001b[1;31mKeyError\u001b[0m: 'zip_code'",
      "\nThe above exception was the direct cause of the following exception:\n",
      "\u001b[1;31mKeyError\u001b[0m                                  Traceback (most recent call last)",
      "Cell \u001b[1;32mIn[7], line 34\u001b[0m\n\u001b[0;32m     31\u001b[0m quasi_identifiers \u001b[38;5;241m=\u001b[39m [\u001b[38;5;124m'\u001b[39m\u001b[38;5;124mage\u001b[39m\u001b[38;5;124m'\u001b[39m, \u001b[38;5;124m'\u001b[39m\u001b[38;5;124mzip_code\u001b[39m\u001b[38;5;124m'\u001b[39m]  \u001b[38;5;66;03m# Sostituire con gli attributi effettivi\u001b[39;00m\n\u001b[0;32m     33\u001b[0m \u001b[38;5;66;03m# Calcolare le classi di equivalenza per ciascun dataset\u001b[39;00m\n\u001b[1;32m---> 34\u001b[0m anonymized_eq_classes \u001b[38;5;241m=\u001b[39m \u001b[43mequivalence_classes\u001b[49m\u001b[43m(\u001b[49m\u001b[43manonymized_df\u001b[49m\u001b[43m,\u001b[49m\u001b[43m \u001b[49m\u001b[43mquasi_identifiers\u001b[49m\u001b[43m)\u001b[49m\n\u001b[0;32m     35\u001b[0m original_eq_classes \u001b[38;5;241m=\u001b[39m equivalence_classes(original_df, quasi_identifiers)\n\u001b[0;32m     37\u001b[0m \u001b[38;5;66;03m# Calcolare C_DM per ciascun dataset\u001b[39;00m\n",
      "Cell \u001b[1;32mIn[7], line 8\u001b[0m, in \u001b[0;36mequivalence_classes\u001b[1;34m(df, quasi_identifiers)\u001b[0m\n\u001b[0;32m      6\u001b[0m eq_classes \u001b[38;5;241m=\u001b[39m {}\n\u001b[0;32m      7\u001b[0m \u001b[38;5;28;01mfor\u001b[39;00m _, row \u001b[38;5;129;01min\u001b[39;00m df\u001b[38;5;241m.\u001b[39miterrows():\n\u001b[1;32m----> 8\u001b[0m     key \u001b[38;5;241m=\u001b[39m \u001b[38;5;28;43mtuple\u001b[39;49m\u001b[43m(\u001b[49m\u001b[43mrow\u001b[49m\u001b[43m[\u001b[49m\u001b[43mqi\u001b[49m\u001b[43m]\u001b[49m\u001b[43m \u001b[49m\u001b[38;5;28;43;01mfor\u001b[39;49;00m\u001b[43m \u001b[49m\u001b[43mqi\u001b[49m\u001b[43m \u001b[49m\u001b[38;5;129;43;01min\u001b[39;49;00m\u001b[43m \u001b[49m\u001b[43mquasi_identifiers\u001b[49m\u001b[43m)\u001b[49m\n\u001b[0;32m      9\u001b[0m     \u001b[38;5;28;01mif\u001b[39;00m key \u001b[38;5;129;01mnot\u001b[39;00m \u001b[38;5;129;01min\u001b[39;00m eq_classes:\n\u001b[0;32m     10\u001b[0m         eq_classes[key] \u001b[38;5;241m=\u001b[39m []\n",
      "Cell \u001b[1;32mIn[7], line 8\u001b[0m, in \u001b[0;36m<genexpr>\u001b[1;34m(.0)\u001b[0m\n\u001b[0;32m      6\u001b[0m eq_classes \u001b[38;5;241m=\u001b[39m {}\n\u001b[0;32m      7\u001b[0m \u001b[38;5;28;01mfor\u001b[39;00m _, row \u001b[38;5;129;01min\u001b[39;00m df\u001b[38;5;241m.\u001b[39miterrows():\n\u001b[1;32m----> 8\u001b[0m     key \u001b[38;5;241m=\u001b[39m \u001b[38;5;28mtuple\u001b[39m(\u001b[43mrow\u001b[49m\u001b[43m[\u001b[49m\u001b[43mqi\u001b[49m\u001b[43m]\u001b[49m \u001b[38;5;28;01mfor\u001b[39;00m qi \u001b[38;5;129;01min\u001b[39;00m quasi_identifiers)\n\u001b[0;32m      9\u001b[0m     \u001b[38;5;28;01mif\u001b[39;00m key \u001b[38;5;129;01mnot\u001b[39;00m \u001b[38;5;129;01min\u001b[39;00m eq_classes:\n\u001b[0;32m     10\u001b[0m         eq_classes[key] \u001b[38;5;241m=\u001b[39m []\n",
      "File \u001b[1;32mc:\\Users\\aleba\\AppData\\Local\\Programs\\Python\\Python312\\Lib\\site-packages\\pandas\\core\\series.py:1040\u001b[0m, in \u001b[0;36mSeries.__getitem__\u001b[1;34m(self, key)\u001b[0m\n\u001b[0;32m   1037\u001b[0m     \u001b[38;5;28;01mreturn\u001b[39;00m \u001b[38;5;28mself\u001b[39m\u001b[38;5;241m.\u001b[39m_values[key]\n\u001b[0;32m   1039\u001b[0m \u001b[38;5;28;01melif\u001b[39;00m key_is_scalar:\n\u001b[1;32m-> 1040\u001b[0m     \u001b[38;5;28;01mreturn\u001b[39;00m \u001b[38;5;28;43mself\u001b[39;49m\u001b[38;5;241;43m.\u001b[39;49m\u001b[43m_get_value\u001b[49m\u001b[43m(\u001b[49m\u001b[43mkey\u001b[49m\u001b[43m)\u001b[49m\n\u001b[0;32m   1042\u001b[0m \u001b[38;5;66;03m# Convert generator to list before going through hashable part\u001b[39;00m\n\u001b[0;32m   1043\u001b[0m \u001b[38;5;66;03m# (We will iterate through the generator there to check for slices)\u001b[39;00m\n\u001b[0;32m   1044\u001b[0m \u001b[38;5;28;01mif\u001b[39;00m is_iterator(key):\n",
      "File \u001b[1;32mc:\\Users\\aleba\\AppData\\Local\\Programs\\Python\\Python312\\Lib\\site-packages\\pandas\\core\\series.py:1156\u001b[0m, in \u001b[0;36mSeries._get_value\u001b[1;34m(self, label, takeable)\u001b[0m\n\u001b[0;32m   1153\u001b[0m     \u001b[38;5;28;01mreturn\u001b[39;00m \u001b[38;5;28mself\u001b[39m\u001b[38;5;241m.\u001b[39m_values[label]\n\u001b[0;32m   1155\u001b[0m \u001b[38;5;66;03m# Similar to Index.get_value, but we do not fall back to positional\u001b[39;00m\n\u001b[1;32m-> 1156\u001b[0m loc \u001b[38;5;241m=\u001b[39m \u001b[38;5;28;43mself\u001b[39;49m\u001b[38;5;241;43m.\u001b[39;49m\u001b[43mindex\u001b[49m\u001b[38;5;241;43m.\u001b[39;49m\u001b[43mget_loc\u001b[49m\u001b[43m(\u001b[49m\u001b[43mlabel\u001b[49m\u001b[43m)\u001b[49m\n\u001b[0;32m   1158\u001b[0m \u001b[38;5;28;01mif\u001b[39;00m is_integer(loc):\n\u001b[0;32m   1159\u001b[0m     \u001b[38;5;28;01mreturn\u001b[39;00m \u001b[38;5;28mself\u001b[39m\u001b[38;5;241m.\u001b[39m_values[loc]\n",
      "File \u001b[1;32mc:\\Users\\aleba\\AppData\\Local\\Programs\\Python\\Python312\\Lib\\site-packages\\pandas\\core\\indexes\\base.py:3798\u001b[0m, in \u001b[0;36mIndex.get_loc\u001b[1;34m(self, key)\u001b[0m\n\u001b[0;32m   3793\u001b[0m     \u001b[38;5;28;01mif\u001b[39;00m \u001b[38;5;28misinstance\u001b[39m(casted_key, \u001b[38;5;28mslice\u001b[39m) \u001b[38;5;129;01mor\u001b[39;00m (\n\u001b[0;32m   3794\u001b[0m         \u001b[38;5;28misinstance\u001b[39m(casted_key, abc\u001b[38;5;241m.\u001b[39mIterable)\n\u001b[0;32m   3795\u001b[0m         \u001b[38;5;129;01mand\u001b[39;00m \u001b[38;5;28many\u001b[39m(\u001b[38;5;28misinstance\u001b[39m(x, \u001b[38;5;28mslice\u001b[39m) \u001b[38;5;28;01mfor\u001b[39;00m x \u001b[38;5;129;01min\u001b[39;00m casted_key)\n\u001b[0;32m   3796\u001b[0m     ):\n\u001b[0;32m   3797\u001b[0m         \u001b[38;5;28;01mraise\u001b[39;00m InvalidIndexError(key)\n\u001b[1;32m-> 3798\u001b[0m     \u001b[38;5;28;01mraise\u001b[39;00m \u001b[38;5;167;01mKeyError\u001b[39;00m(key) \u001b[38;5;28;01mfrom\u001b[39;00m \u001b[38;5;21;01merr\u001b[39;00m\n\u001b[0;32m   3799\u001b[0m \u001b[38;5;28;01mexcept\u001b[39;00m \u001b[38;5;167;01mTypeError\u001b[39;00m:\n\u001b[0;32m   3800\u001b[0m     \u001b[38;5;66;03m# If we have a listlike key, _check_indexing_error will raise\u001b[39;00m\n\u001b[0;32m   3801\u001b[0m     \u001b[38;5;66;03m#  InvalidIndexError. Otherwise we fall through and re-raise\u001b[39;00m\n\u001b[0;32m   3802\u001b[0m     \u001b[38;5;66;03m#  the TypeError.\u001b[39;00m\n\u001b[0;32m   3803\u001b[0m     \u001b[38;5;28mself\u001b[39m\u001b[38;5;241m.\u001b[39m_check_indexing_error(key)\n",
      "\u001b[1;31mKeyError\u001b[0m: 'zip_code'"
     ]
    }
   ],
   "source": []
  }
 ],
 "metadata": {
  "kernelspec": {
   "display_name": "Python 3",
   "language": "python",
   "name": "python3"
  },
  "language_info": {
   "codemirror_mode": {
    "name": "ipython",
    "version": 3
   },
   "file_extension": ".py",
   "mimetype": "text/x-python",
   "name": "python",
   "nbconvert_exporter": "python",
   "pygments_lexer": "ipython3",
   "version": "3.12.1"
  }
 },
 "nbformat": 4,
 "nbformat_minor": 2
}
