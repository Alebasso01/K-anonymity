{
 "cells": [
  {
   "cell_type": "code",
   "execution_count": 1,
   "metadata": {},
   "outputs": [
    {
     "name": "stdout",
     "output_type": "stream",
     "text": [
      "Il dataset rispetta la k-anonimity per k compreso tra 3 e 6\n"
     ]
    },
    {
     "data": {
      "text/plain": [
       "True"
      ]
     },
     "execution_count": 1,
     "metadata": {},
     "output_type": "execute_result"
    }
   ],
   "source": [
    "import pandas as pd\n",
    "import matplotlib.pyplot as plt\n",
    "import seaborn as sns\n",
    "\n",
    "def check_k_anonymity(df, quasi_identifiers, k):\n",
    "    # Raggruppare il dataframe per i quasi-identificatori e ottenere la dimensione di ogni gruppo\n",
    "    group_sizes = df.groupby(quasi_identifiers).size()\n",
    "    num_partitions = len(group_sizes)\n",
    "    total_rows = len(df)\n",
    "    \n",
    "    # Verificare se tutti i gruppi hanno almeno k elementi e al massimo k*2 elementi\n",
    "    is_k_anonymous = ((group_sizes >= k)).all()\n",
    "    #is_k_anonymous = ((group_sizes >= k) & (group_sizes <= k*2)).all()\n",
    "\n",
    "    \n",
    "    # Stampa del risultato della verifica di k-anonimity\n",
    "    if is_k_anonymous:\n",
    "        print(f\"Il dataset rispetta la k-anonimity per k compreso tra {k} e {k*2}\")\n",
    "    else:\n",
    "        print(f\"Il dataset non rispetta la k-anonimity per k compreso tra {k} e {k*2}\")\n",
    "        print(\"\\nLe seguenti partizioni non rispettano la k-anonimity:\")\n",
    "        print(group_sizes[(group_sizes < k) | (group_sizes > k*2)])\n",
    "    \n",
    "    return is_k_anonymous\n",
    "\n",
    "# Carica il dataset\n",
    "anonymized_df = pd.read_csv('anonymized.csv')\n",
    "original_df = pd.read_csv('generation/database.csv')   \n",
    "\n",
    "# Definisci i quasi-identificatori e il valore di k\n",
    "quasi_identifiers = ['age', 'gender', 'city', 'education', 'profession']\n",
    "k = 3  # Sostituisci con il valore di k desiderato\n",
    "\n",
    "# Verifica la k-anonimity\n",
    "check_k_anonymity(anonymized_df, quasi_identifiers, k)\n"
   ]
  },
  {
   "cell_type": "code",
   "execution_count": 2,
   "metadata": {},
   "outputs": [],
   "source": [
    "numerical_qis = ['age']\n",
    "ordinal_qis = ['education', 'gender']\n",
    "categorical_qis = ['city', 'profession']\n",
    "all_qis = categorical_qis + numerical_qis + ordinal_qis"
   ]
  },
  {
   "cell_type": "markdown",
   "metadata": {},
   "source": [
    "Original dataset age average and anonymized dataset age average: "
   ]
  },
  {
   "cell_type": "code",
   "execution_count": 3,
   "metadata": {},
   "outputs": [
    {
     "name": "stdout",
     "output_type": "stream",
     "text": [
      "Media dei range di età in anonymized_df:\n",
      "         age  age_mean\n",
      "0    [20-66]      43.0\n",
      "1    [20-66]      43.0\n",
      "2    [20-66]      43.0\n",
      "3    [22-66]      44.0\n",
      "4    [22-66]      44.0\n",
      "..       ...       ...\n",
      "995  [24-86]      55.0\n",
      "996  [24-86]      55.0\n",
      "997  [27-67]      47.0\n",
      "998  [27-67]      47.0\n",
      "999  [27-67]      47.0\n",
      "\n",
      "[1000 rows x 2 columns]\n",
      "\n",
      "Media dell'età in original_df:\n",
      "52.984\n"
     ]
    }
   ],
   "source": [
    "import pandas as pd\n",
    "import numpy as np\n",
    "\n",
    "# Funzione per calcolare la media di un range di età\n",
    "def calculate_mean(column):\n",
    "    try:\n",
    "        # Rimuoviamo parentesi quadre, se presenti\n",
    "        col_range = column.strip('[]')\n",
    "        # Dividiamo il range in due numeri\n",
    "        col_split = col_range.split('-')\n",
    "        # Calcoliamo la media\n",
    "        return np.mean([int(col_split[0]), int(col_split[1])])\n",
    "    except (IndexError, ValueError):\n",
    "        # Se c'è un errore nell'indicizzazione o nella conversione, restituisci NaN\n",
    "        return np.nan\n",
    "\n",
    "\n",
    "# Calcoliamo la media dei range di età in anonymized_df\n",
    "anonymized_df['age_mean'] = anonymized_df['age'].apply(calculate_mean)\n",
    "\n",
    "# Calcoliamo la media dell'età in original_df\n",
    "original_age_mean = original_df['age'].mean()\n",
    "\n",
    "# Stampa dei risultati\n",
    "print(\"Media dei range di età in anonymized_df:\")\n",
    "print(anonymized_df[['age', 'age_mean']])\n",
    "\n",
    "print(\"\\nMedia dell'età in original_df:\")\n",
    "print(original_age_mean)\n"
   ]
  },
  {
   "cell_type": "markdown",
   "metadata": {},
   "source": [
    "Original and anonymized modal values of categorical attributes:"
   ]
  },
  {
   "cell_type": "code",
   "execution_count": 4,
   "metadata": {},
   "outputs": [
    {
     "name": "stdout",
     "output_type": "stream",
     "text": [
      "Moda degli attributi categorici per anonymized_df:\n",
      "gender           ANY-GENDER\n",
      "city                    USA\n",
      "age                   18-81\n",
      "profession          ANY-JOB\n",
      "education     ANY-EDUCATION\n",
      "Name: 0, dtype: object\n",
      "\n",
      "Moda degli attributi categorici per original_df:\n",
      "gender                        female\n",
      "city                          Austin\n",
      "age                             27.0\n",
      "profession    Comic Book Illustrator\n",
      "education                High School\n",
      "Name: 0, dtype: object\n"
     ]
    }
   ],
   "source": [
    "import pandas as pd\n",
    "import numpy as np\n",
    "\n",
    "# Funzione per rimuovere parentesi quadre\n",
    "def remove_brackets(value):\n",
    "    return value.strip('[]')\n",
    "\n",
    "# Funzione per calcolare la moda degli attributi categorici\n",
    "def calculate_mode(df, categorical_qis):\n",
    "    # Controllo per determinare se il DataFrame ha parentesi quadre nei valori\n",
    "    first_value = df.iloc[0][categorical_qis[0]]\n",
    "    if isinstance(first_value, str) and '[' in first_value:\n",
    "        # Se ci sono parentesi quadre, applica la funzione remove_brackets\n",
    "        for col in categorical_qis:\n",
    "            df[col] = df[col].apply(remove_brackets)\n",
    "\n",
    "    # Calcola la moda per le colonne categoriche\n",
    "    modes = df[categorical_qis].mode().iloc[0]\n",
    "\n",
    "    return modes\n",
    "\n",
    "# Esempio di utilizzo con entrambi i DataFrame\n",
    "if __name__ == \"__main__\":\n",
    "    # Carica il DataFrame anonymized_df (sostituire con il caricamento effettivo del file)\n",
    "    anonymized_df = pd.read_csv('anonymized.csv')\n",
    "\n",
    "    # Carica il DataFrame original_df (sostituire con il caricamento effettivo del file)\n",
    "    original_df = pd.read_csv('generation/database.csv')\n",
    "\n",
    "    # Definisci i quasi identificatori categorici\n",
    "    categorical_qis = ['gender', 'city', 'age', 'profession', 'education']\n",
    "\n",
    "    # Calcola la moda degli attributi categorici per anonymized_df\n",
    "    modes_anonymized = calculate_mode(anonymized_df, categorical_qis)\n",
    "    print(\"Moda degli attributi categorici per anonymized_df:\")\n",
    "    print(modes_anonymized)\n",
    "\n",
    "    # Calcola la moda degli attributi categorici per original_df\n",
    "    modes_original = calculate_mode(original_df, categorical_qis)\n",
    "    print(\"\\nModa degli attributi categorici per original_df:\")\n",
    "    print(modes_original)\n"
   ]
  },
  {
   "cell_type": "markdown",
   "metadata": {},
   "source": [
    "Education level average e standard deviation:  "
   ]
  },
  {
   "cell_type": "code",
   "execution_count": 5,
   "metadata": {},
   "outputs": [
    {
     "name": "stdout",
     "output_type": "stream",
     "text": [
      "Mappatura dei livelli di istruzione:\n",
      "High School: 1\n",
      "Bachelor's Degree: 2\n",
      "Graduate School: 3\n",
      "Master's Degree: 3\n",
      "Doctoral Degree: 3\n",
      "\n",
      "Media del livello di istruzione: 1.749\n",
      "Varianza del livello di istruzione: 0.7247237237237237\n"
     ]
    }
   ],
   "source": [
    "import json\n",
    "import pandas as pd\n",
    "\n",
    "# Carica il file JSON\n",
    "with open('generation\\\\json\\\\educations.json', 'r') as f:\n",
    "    education_levels = json.load(f)\n",
    "\n",
    "# Funzione per creare la mappatura dei livelli di istruzione\n",
    "def create_mapping(levels, start_value=1):  # Partiamo da 1, escludendo \"ANY-EDUCATION\"\n",
    "    mapping = {}\n",
    "    def recursive_map(levels, current_value):\n",
    "        for level in levels:\n",
    "            # Se il livello ha categorie, mappiamo i sotto-livelli allo stesso valore del livello principale\n",
    "            if 'categories' in level and level['categories']:\n",
    "                mapping[level['name']] = current_value\n",
    "                for sub_level in level['categories']:\n",
    "                    mapping[sub_level['name']] = current_value\n",
    "                current_value += 1\n",
    "            else:\n",
    "                mapping[level['name']] = current_value\n",
    "                current_value += 1\n",
    "        return current_value\n",
    "\n",
    "    recursive_map(levels['categories'], start_value)\n",
    "    return mapping\n",
    "\n",
    "# Crea la mappatura\n",
    "education_mapping = create_mapping(education_levels)\n",
    "\n",
    "# Stampa la mappatura\n",
    "print(\"Mappatura dei livelli di istruzione:\")\n",
    "for key, value in education_mapping.items():\n",
    "    print(f\"{key}: {value}\")\n",
    "\n",
    "# Carica il dataset\n",
    "df = pd.read_csv('generation\\\\database.csv')\n",
    "\n",
    "# Verifica che la colonna esista nel dataset\n",
    "if 'education' not in df.columns:\n",
    "    raise KeyError(\"'education' column not found in the dataset\")\n",
    "\n",
    "# Sostituisci i valori della colonna \"education\" con i numeri interi corrispondenti\n",
    "df['education'] = df['education'].map(education_mapping)\n",
    "\n",
    "# Escludi i valori di \"ANY-EDUCATION\" (che non sono stati mappati)\n",
    "df_filtered = df[df['education'].notna()]\n",
    "\n",
    "# Calcola la media e la varianza della colonna codificata senza \"ANY-EDUCATION\"\n",
    "mean_education = df_filtered['education'].mean()\n",
    "var_education = df_filtered['education'].var()\n",
    "\n",
    "print(f\"\\nMedia del livello di istruzione: {mean_education}\")\n",
    "print(f\"Varianza del livello di istruzione: {var_education}\")\n",
    "\n",
    "# Salva il dataset aggiornato\n",
    "# df.to_csv('dataset_updated.csv', index=False)\n"
   ]
  },
  {
   "cell_type": "markdown",
   "metadata": {},
   "source": [
    "Gender average e standard deviation:  "
   ]
  },
  {
   "cell_type": "code",
   "execution_count": 6,
   "metadata": {},
   "outputs": [
    {
     "name": "stdout",
     "output_type": "stream",
     "text": [
      "Media del genere: 0.517\n",
      "Varianza del genere: 0.249960960960961\n"
     ]
    }
   ],
   "source": [
    "import pandas as pd\n",
    "\n",
    "# Crea il dizionario di mappatura\n",
    "gender_mapping = {\n",
    "    \"male\": 0,\n",
    "    \"female\": 1\n",
    "}\n",
    "\n",
    "# Carica il dataset\n",
    "df = pd.read_csv('generation/database.csv')\n",
    "\n",
    "# Verifica che la colonna esista nel dataset\n",
    "if 'gender' not in df.columns:\n",
    "    raise KeyError(\"'gender' column not found in the dataset\")\n",
    "\n",
    "# Sostituisci i valori della colonna \"gender\" con i numeri interi corrispondenti\n",
    "df['gender'] = df['gender'].map(gender_mapping)\n",
    "\n",
    "# Calcola la media e la varianza della colonna \"gender\"\n",
    "mean_gender = df['gender'].mean()\n",
    "var_gender = df['gender'].var()\n",
    "\n",
    "print(f\"Media del genere: {mean_gender}\")\n",
    "print(f\"Varianza del genere: {var_gender}\")\n"
   ]
  },
  {
   "cell_type": "code",
   "execution_count": 7,
   "metadata": {},
   "outputs": [],
   "source": [
    "# Mapping \n",
    "\n",
    "def mapping(col):\n",
    "    if col == 'education':\n",
    "        return education_mapping\n",
    "    elif col == 'gender':\n",
    "        return gender_mapping"
   ]
  },
  {
   "cell_type": "markdown",
   "metadata": {},
   "source": [
    "Complete Statistical Analysis:"
   ]
  },
  {
   "cell_type": "code",
   "execution_count": 8,
   "metadata": {},
   "outputs": [],
   "source": [
    "def statistical_analysis(original_df, anonymized_df, numerical_qis, categorical_qis, ordinal_qis):\n",
    "    \"\"\" Esegue un'analisi statistica comparativa tra il dataset originale e quello anonimizzato \"\"\"\n",
    "   \n",
    "    # Filtra i dataset per considerare solo le colonne di interesse\n",
    "    original_df = original_df[all_qis]\n",
    "    anonymized_df = anonymized_df[all_qis]\n",
    "\n",
    "    # Analisi delle colonne numeriche\n",
    "    print(\"Analisi delle colonne numeriche:\")\n",
    "    for col in numerical_qis:\n",
    "        anonymized_df[col] = anonymized_df[col].apply(calculate_mean)\n",
    "        \n",
    "        mean_original = original_df[col].mean()\n",
    "        mean_anonymized = anonymized_df[col].mean()\n",
    "        std_original = original_df[col].std()\n",
    "        std_anonymized = anonymized_df[col].std()\n",
    "\n",
    "        print(f\"Colonna: {col}\")\n",
    "        print(f\"  Media originale: {mean_original}\")\n",
    "        print(f\"  Media anonimizzata: {mean_anonymized}\")\n",
    "        print(f\"  Deviazione standard originale: {std_original}\")\n",
    "        print(f\"  Deviazione standard anonimizzata: {std_anonymized}\")\n",
    "        \n",
    "    # Analisi colonne categoriche ordinali\n",
    "    print(\"Analisi delle colonne categoriche ordinali:\")\n",
    "    for col in ordinal_qis:\n",
    "        col_mapping = mapping(col)\n",
    "        anonymized_df[col] = anonymized_df[col].map(col_mapping)\n",
    "        original_df[col] = original_df[col].map(col_mapping)\n",
    "        \n",
    "        anonymized_filtered = anonymized_df[anonymized_df[col].notna()]\n",
    "        original_filtered = original_df[original_df[col].notna()]\n",
    "        \n",
    "        mean_anonymized = anonymized_filtered[col].mean()\n",
    "        std_anonymized = anonymized_filtered[col].var()\n",
    "        mean_original = original_filtered[col].mean()\n",
    "        std_original = original_filtered[col].var()\n",
    "        \n",
    "        print(f\"Colonna: {col}\")\n",
    "        print(f\"  Media originale: {mean_original}\")\n",
    "        print(f\"  Media anonimizzata: {mean_anonymized}\")\n",
    "        print(f\"  Deviazione standard originale: {std_original}\")\n",
    "        print(f\"  Deviazione standard anonimizzata: {std_anonymized}\")\n",
    "        \n",
    "\n",
    "    # Analisi delle colonne categoriche\n",
    "    print(\"Analisi delle colonne categoriche:\")\n",
    "    modes_original = calculate_mode(original_df, categorical_qis)\n",
    "    modes_anonymized = calculate_mode(anonymized_df, categorical_qis)\n",
    "    \n",
    "    for col in categorical_qis:\n",
    "        print(f\"Colonna: {col}\")\n",
    "        print(f\"  Moda originale: {modes_original[col]}\")\n",
    "        print(f\"  Moda anonimizzata: {modes_anonymized[col]}\")\n"
   ]
  },
  {
   "cell_type": "code",
   "execution_count": 9,
   "metadata": {},
   "outputs": [
    {
     "name": "stdout",
     "output_type": "stream",
     "text": [
      "Analisi delle colonne numeriche:\n",
      "Colonna: age\n",
      "  Media originale: 52.984\n",
      "  Media anonimizzata: 53.003\n",
      "  Deviazione standard originale: 20.807996460897353\n",
      "  Deviazione standard anonimizzata: 11.437648832291137\n",
      "Analisi delle colonne categoriche ordinali:\n",
      "Colonna: education\n",
      "  Media originale: 1.749\n",
      "  Media anonimizzata: 1.1851851851851851\n",
      "  Deviazione standard originale: 0.7247237237237237\n",
      "  Deviazione standard anonimizzata: 0.2636300897170462\n",
      "Colonna: gender\n",
      "  Media originale: 0.517\n",
      "  Media anonimizzata: 0.5172413793103449\n",
      "  Deviazione standard originale: 0.249960960960961\n",
      "  Deviazione standard anonimizzata: 0.25066312997347473\n",
      "Analisi delle colonne categoriche:\n",
      "Colonna: gender\n",
      "  Moda originale: 1.0\n",
      "  Moda anonimizzata: 1.0\n",
      "Colonna: city\n",
      "  Moda originale: Austin\n",
      "  Moda anonimizzata: USA\n",
      "Colonna: age\n",
      "  Moda originale: 27.0\n",
      "  Moda anonimizzata: 52.0\n",
      "Colonna: profession\n",
      "  Moda originale: Comic Book Illustrator\n",
      "  Moda anonimizzata: ANY-JOB\n",
      "Colonna: education\n",
      "  Moda originale: 1.0\n",
      "  Moda anonimizzata: 1.0\n"
     ]
    },
    {
     "name": "stderr",
     "output_type": "stream",
     "text": [
      "C:\\Users\\aleba\\AppData\\Local\\Temp\\ipykernel_9984\\2799938261.py:11: SettingWithCopyWarning: \n",
      "A value is trying to be set on a copy of a slice from a DataFrame.\n",
      "Try using .loc[row_indexer,col_indexer] = value instead\n",
      "\n",
      "See the caveats in the documentation: https://pandas.pydata.org/pandas-docs/stable/user_guide/indexing.html#returning-a-view-versus-a-copy\n",
      "  anonymized_df[col] = anonymized_df[col].apply(calculate_mean)\n",
      "C:\\Users\\aleba\\AppData\\Local\\Temp\\ipykernel_9984\\2799938261.py:28: SettingWithCopyWarning: \n",
      "A value is trying to be set on a copy of a slice from a DataFrame.\n",
      "Try using .loc[row_indexer,col_indexer] = value instead\n",
      "\n",
      "See the caveats in the documentation: https://pandas.pydata.org/pandas-docs/stable/user_guide/indexing.html#returning-a-view-versus-a-copy\n",
      "  anonymized_df[col] = anonymized_df[col].map(col_mapping)\n",
      "C:\\Users\\aleba\\AppData\\Local\\Temp\\ipykernel_9984\\2799938261.py:29: SettingWithCopyWarning: \n",
      "A value is trying to be set on a copy of a slice from a DataFrame.\n",
      "Try using .loc[row_indexer,col_indexer] = value instead\n",
      "\n",
      "See the caveats in the documentation: https://pandas.pydata.org/pandas-docs/stable/user_guide/indexing.html#returning-a-view-versus-a-copy\n",
      "  original_df[col] = original_df[col].map(col_mapping)\n",
      "C:\\Users\\aleba\\AppData\\Local\\Temp\\ipykernel_9984\\2799938261.py:28: SettingWithCopyWarning: \n",
      "A value is trying to be set on a copy of a slice from a DataFrame.\n",
      "Try using .loc[row_indexer,col_indexer] = value instead\n",
      "\n",
      "See the caveats in the documentation: https://pandas.pydata.org/pandas-docs/stable/user_guide/indexing.html#returning-a-view-versus-a-copy\n",
      "  anonymized_df[col] = anonymized_df[col].map(col_mapping)\n",
      "C:\\Users\\aleba\\AppData\\Local\\Temp\\ipykernel_9984\\2799938261.py:29: SettingWithCopyWarning: \n",
      "A value is trying to be set on a copy of a slice from a DataFrame.\n",
      "Try using .loc[row_indexer,col_indexer] = value instead\n",
      "\n",
      "See the caveats in the documentation: https://pandas.pydata.org/pandas-docs/stable/user_guide/indexing.html#returning-a-view-versus-a-copy\n",
      "  original_df[col] = original_df[col].map(col_mapping)\n"
     ]
    }
   ],
   "source": [
    "statistical_analysis(original_df, anonymized_df, numerical_qis, categorical_qis, ordinal_qis)\n"
   ]
  },
  {
   "cell_type": "code",
   "execution_count": 10,
   "metadata": {},
   "outputs": [],
   "source": [
    "def discernability_penalty(df, qi):\n",
    "    # Raggruppa il DataFrame per le colonne quasi-identificative\n",
    "    partitions = df.groupby(qi).size()\n",
    "    \n",
    "    # Calcola la penalità come la somma dei quadrati delle dimensioni dei gruppi\n",
    "    dp = sum(size**2 for size in partitions)\n",
    "    \n",
    "    return dp"
   ]
  },
  {
   "cell_type": "code",
   "execution_count": 11,
   "metadata": {},
   "outputs": [
    {
     "data": {
      "text/plain": [
       "3148"
      ]
     },
     "execution_count": 11,
     "metadata": {},
     "output_type": "execute_result"
    }
   ],
   "source": [
    "discernability_penalty(anonymized_df, quasi_identifiers)"
   ]
  }
 ],
 "metadata": {
  "kernelspec": {
   "display_name": "Python 3",
   "language": "python",
   "name": "python3"
  },
  "language_info": {
   "codemirror_mode": {
    "name": "ipython",
    "version": 3
   },
   "file_extension": ".py",
   "mimetype": "text/x-python",
   "name": "python",
   "nbconvert_exporter": "python",
   "pygments_lexer": "ipython3",
   "version": "3.12.1"
  }
 },
 "nbformat": 4,
 "nbformat_minor": 2
}
