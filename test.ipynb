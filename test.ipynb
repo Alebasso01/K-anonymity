{
 "cells": [
  {
   "cell_type": "code",
   "execution_count": 1,
   "metadata": {},
   "outputs": [
    {
     "name": "stdout",
     "output_type": "stream",
     "text": [
      "Il dataset rispetta la k-anonimity per k = 3 \n"
     ]
    },
    {
     "data": {
      "text/plain": [
       "True"
      ]
     },
     "execution_count": 1,
     "metadata": {},
     "output_type": "execute_result"
    }
   ],
   "source": [
    "import pandas as pd\n",
    "import matplotlib.pyplot as plt\n",
    "import seaborn as sns\n",
    "\n",
    "def check_k_anonymity(df, quasi_identifiers, k):\n",
    "    group_sizes = df.groupby(quasi_identifiers).size()\n",
    "    num_partitions = len(group_sizes)\n",
    "    total_rows = len(df)\n",
    "    \n",
    "    is_k_anonymous = ((group_sizes >= k)).all()\n",
    "\n",
    "    \n",
    "    if is_k_anonymous:\n",
    "        print(f\"Il dataset rispetta la k-anonimity per k = {k} \")\n",
    "    else:\n",
    "        print(f\"Il dataset non rispetta la k-anonimity per k = {k} \")\n",
    "        print(\"\\nLe seguenti partizioni non rispettano la k-anonimity:\")\n",
    "        print(group_sizes[(group_sizes < k) | (group_sizes > k*2)])\n",
    "    \n",
    "    return is_k_anonymous\n",
    "\n",
    "anonymized_df = pd.read_csv('anonymized.csv')\n",
    "original_df = pd.read_csv('generation/database.csv')   \n",
    "\n",
    "quasi_identifiers = ['age', 'gender', 'city', 'education', 'profession']\n",
    "k = 3  \n",
    "check_k_anonymity(anonymized_df, quasi_identifiers, k)\n"
   ]
  },
  {
   "cell_type": "code",
   "execution_count": 2,
   "metadata": {},
   "outputs": [],
   "source": [
    "numerical_qis = ['age']\n",
    "ordinal_qis = ['education', 'gender']\n",
    "categorical_qis = ['city', 'profession']\n",
    "all_qis = categorical_qis + numerical_qis + ordinal_qis"
   ]
  },
  {
   "cell_type": "markdown",
   "metadata": {},
   "source": [
    "Original dataset age average and anonymized dataset age average: "
   ]
  },
  {
   "cell_type": "code",
   "execution_count": 3,
   "metadata": {},
   "outputs": [
    {
     "name": "stdout",
     "output_type": "stream",
     "text": [
      "Media dei range di età in anonymized_df:\n",
      "         age  age_mean\n",
      "0    [20-66]      43.0\n",
      "1    [20-66]      43.0\n",
      "2    [20-66]      43.0\n",
      "3    [22-66]      44.0\n",
      "4    [22-66]      44.0\n",
      "..       ...       ...\n",
      "995  [24-86]      55.0\n",
      "996  [24-86]      55.0\n",
      "997  [27-67]      47.0\n",
      "998  [27-67]      47.0\n",
      "999  [27-67]      47.0\n",
      "\n",
      "[1000 rows x 2 columns]\n",
      "\n",
      "Media complessiva in anonymized_df : 53.003\n",
      "\n",
      "Media dell'età in original_df:\n",
      "52.984\n"
     ]
    }
   ],
   "source": [
    "import numpy as np\n",
    "\n",
    "def calculate_mean(column):\n",
    "    try:\n",
    "        col_range = column.strip('[]')\n",
    "        # Dividiamo il range in due numeri\n",
    "        col_split = col_range.split('-')\n",
    "        return np.mean([int(col_split[0]), int(col_split[1])])\n",
    "    except (IndexError, ValueError):\n",
    "        return np.nan\n",
    "\n",
    "\n",
    "anonymized_df['age_mean'] = anonymized_df['age'].apply(calculate_mean)\n",
    "\n",
    "# Calcoliamo la media dell'età in original_df\n",
    "original_age_mean = original_df['age'].mean()\n",
    "\n",
    "print(\"Media dei range di età in anonymized_df:\")\n",
    "print(anonymized_df[['age', 'age_mean']])\n",
    "print(\"\\nMedia complessiva in anonymized_df :\", anonymized_df['age_mean'].mean())\n",
    "\n",
    "print(\"\\nMedia dell'età in original_df:\")\n",
    "print(original_age_mean)\n"
   ]
  },
  {
   "cell_type": "markdown",
   "metadata": {},
   "source": [
    "Education level average e standard deviation:  "
   ]
  },
  {
   "cell_type": "code",
   "execution_count": 4,
   "metadata": {},
   "outputs": [
    {
     "name": "stdout",
     "output_type": "stream",
     "text": [
      "Mappatura dei livelli di istruzione:\n",
      "High School: 1\n",
      "Bachelor's Degree: 2\n",
      "Graduate School: 3\n",
      "Master's Degree: 3\n",
      "Doctoral Degree: 3\n",
      "\n",
      "Media del livello di istruzione: 1.749\n",
      "Varianza del livello di istruzione: 0.7247237237237237\n"
     ]
    }
   ],
   "source": [
    "import json\n",
    "import pandas as pd\n",
    "\n",
    "with open('generation\\\\json\\\\educations.json', 'r') as f:\n",
    "    education_levels = json.load(f)\n",
    "\n",
    "def create_mapping(levels, start_value=1):  # Partiamo da 1, escludendo \"ANY-EDUCATION\"\n",
    "    mapping = {}\n",
    "    def recursive_map(levels, current_value):\n",
    "        for level in levels:\n",
    "            if 'categories' in level and level['categories']:\n",
    "                mapping[level['name']] = current_value\n",
    "                for sub_level in level['categories']:\n",
    "                    mapping[sub_level['name']] = current_value\n",
    "                current_value += 1\n",
    "            else:\n",
    "                mapping[level['name']] = current_value\n",
    "                current_value += 1\n",
    "        return current_value\n",
    "\n",
    "    recursive_map(levels['categories'], start_value)\n",
    "    return mapping\n",
    "\n",
    "education_mapping = create_mapping(education_levels)\n",
    "\n",
    "print(\"Mappatura dei livelli di istruzione:\")\n",
    "for key, value in education_mapping.items():\n",
    "    print(f\"{key}: {value}\")\n",
    "\n",
    "df = pd.read_csv('generation\\\\database.csv')\n",
    "\n",
    "if 'education' not in df.columns:\n",
    "    raise KeyError(\"'education' column not found in the dataset\")\n",
    "\n",
    "df['education'] = df['education'].map(education_mapping)\n",
    "\n",
    "df_filtered = df[df['education'].notna()]\n",
    "\n",
    "mean_education = df_filtered['education'].mean()\n",
    "var_education = df_filtered['education'].var()\n",
    "\n",
    "print(f\"\\nMedia del livello di istruzione: {mean_education}\")\n",
    "print(f\"Varianza del livello di istruzione: {var_education}\")"
   ]
  },
  {
   "cell_type": "markdown",
   "metadata": {},
   "source": [
    "Gender average e standard deviation:  "
   ]
  },
  {
   "cell_type": "code",
   "execution_count": 5,
   "metadata": {},
   "outputs": [
    {
     "name": "stdout",
     "output_type": "stream",
     "text": [
      "Media del genere: 0.517\n",
      "Varianza del genere: 0.249960960960961\n"
     ]
    }
   ],
   "source": [
    "import pandas as pd\n",
    "\n",
    "gender_mapping = {\n",
    "    \"male\": 0,\n",
    "    \"female\": 1\n",
    "}\n",
    "\n",
    "df = pd.read_csv('generation/database.csv')\n",
    "\n",
    "if 'gender' not in df.columns:\n",
    "    raise KeyError(\"'gender' column not found in the dataset\")\n",
    "\n",
    "df['gender'] = df['gender'].map(gender_mapping)\n",
    "\n",
    "mean_gender = df['gender'].mean()\n",
    "var_gender = df['gender'].var()\n",
    "\n",
    "print(f\"Media del genere: {mean_gender}\")\n",
    "print(f\"Varianza del genere: {var_gender}\")\n"
   ]
  },
  {
   "cell_type": "code",
   "execution_count": 6,
   "metadata": {},
   "outputs": [],
   "source": [
    "def mapping(col):\n",
    "    if col == 'education':\n",
    "        return education_mapping\n",
    "    elif col == 'gender':\n",
    "        return gender_mapping"
   ]
  },
  {
   "cell_type": "markdown",
   "metadata": {},
   "source": [
    "Complete Statistical Analysis:"
   ]
  },
  {
   "cell_type": "code",
   "execution_count": 7,
   "metadata": {},
   "outputs": [],
   "source": [
    "def statistical_analysis(original_df, anonymized_df, numerical_qis, categorical_qis, ordinal_qis):\n",
    "   \n",
    "    original_df = original_df[all_qis]\n",
    "    anonymized_df = anonymized_df[all_qis]\n",
    "\n",
    "    print(\"Analisi delle colonne numeriche:\")\n",
    "    for col in numerical_qis:\n",
    "        anonymized_df[col] = anonymized_df[col].apply(calculate_mean)\n",
    "        \n",
    "        mean_original = original_df[col].mean()\n",
    "        mean_anonymized = anonymized_df[col].mean()\n",
    "        std_original = original_df[col].std()\n",
    "        std_anonymized = anonymized_df[col].std()\n",
    "\n",
    "        print(f\"Colonna: {col}\")\n",
    "        print(f\"  Media originale: {mean_original}\")\n",
    "        print(f\"  Media anonimizzata: {mean_anonymized}\")\n",
    "        print(f\"  Deviazione standard originale: {std_original}\")\n",
    "        print(f\"  Deviazione standard anonimizzata: {std_anonymized}\")\n",
    "        \n",
    "    print(\"Analisi delle colonne categoriche ordinali:\")\n",
    "    for col in ordinal_qis:\n",
    "        col_mapping = mapping(col)\n",
    "        anonymized_df[col] = anonymized_df[col].map(col_mapping)\n",
    "        original_df[col] = original_df[col].map(col_mapping)\n",
    "        \n",
    "        anonymized_filtered = anonymized_df[anonymized_df[col].notna()]\n",
    "        original_filtered = original_df[original_df[col].notna()]\n",
    "        \n",
    "        mean_anonymized = anonymized_filtered[col].mean()\n",
    "        std_anonymized = anonymized_filtered[col].var()\n",
    "        mean_original = original_filtered[col].mean()\n",
    "        std_original = original_filtered[col].var()\n",
    "        \n",
    "        print(f\"Colonna: {col}\")\n",
    "        print(f\"  Media originale: {mean_original}\")\n",
    "        print(f\"  Media anonimizzata: {mean_anonymized}\")\n",
    "        print(f\"  Deviazione standard originale: {std_original}\")\n",
    "        print(f\"  Deviazione standard anonimizzata: {std_anonymized}\")"
   ]
  },
  {
   "cell_type": "code",
   "execution_count": 8,
   "metadata": {},
   "outputs": [
    {
     "name": "stdout",
     "output_type": "stream",
     "text": [
      "Analisi delle colonne numeriche:\n",
      "Colonna: age\n",
      "  Media originale: 52.984\n",
      "  Media anonimizzata: 53.003\n",
      "  Deviazione standard originale: 20.807996460897353\n",
      "  Deviazione standard anonimizzata: 11.437648832291137\n",
      "Analisi delle colonne categoriche ordinali:\n",
      "Colonna: education\n",
      "  Media originale: 1.749\n",
      "  Media anonimizzata: 1.1153846153846154\n",
      "  Deviazione standard originale: 0.7247237237237237\n",
      "  Deviazione standard anonimizzata: 0.14143920595533505\n",
      "Colonna: gender\n",
      "  Media originale: 0.517\n",
      "  Media anonimizzata: 0.5172413793103449\n",
      "  Deviazione standard originale: 0.249960960960961\n",
      "  Deviazione standard anonimizzata: 0.25066312997347473\n"
     ]
    },
    {
     "name": "stderr",
     "output_type": "stream",
     "text": [
      "C:\\Users\\aleba\\AppData\\Local\\Temp\\ipykernel_6748\\1981105969.py:8: SettingWithCopyWarning: \n",
      "A value is trying to be set on a copy of a slice from a DataFrame.\n",
      "Try using .loc[row_indexer,col_indexer] = value instead\n",
      "\n",
      "See the caveats in the documentation: https://pandas.pydata.org/pandas-docs/stable/user_guide/indexing.html#returning-a-view-versus-a-copy\n",
      "  anonymized_df[col] = anonymized_df[col].apply(calculate_mean)\n",
      "C:\\Users\\aleba\\AppData\\Local\\Temp\\ipykernel_6748\\1981105969.py:24: SettingWithCopyWarning: \n",
      "A value is trying to be set on a copy of a slice from a DataFrame.\n",
      "Try using .loc[row_indexer,col_indexer] = value instead\n",
      "\n",
      "See the caveats in the documentation: https://pandas.pydata.org/pandas-docs/stable/user_guide/indexing.html#returning-a-view-versus-a-copy\n",
      "  anonymized_df[col] = anonymized_df[col].map(col_mapping)\n",
      "C:\\Users\\aleba\\AppData\\Local\\Temp\\ipykernel_6748\\1981105969.py:25: SettingWithCopyWarning: \n",
      "A value is trying to be set on a copy of a slice from a DataFrame.\n",
      "Try using .loc[row_indexer,col_indexer] = value instead\n",
      "\n",
      "See the caveats in the documentation: https://pandas.pydata.org/pandas-docs/stable/user_guide/indexing.html#returning-a-view-versus-a-copy\n",
      "  original_df[col] = original_df[col].map(col_mapping)\n",
      "C:\\Users\\aleba\\AppData\\Local\\Temp\\ipykernel_6748\\1981105969.py:24: SettingWithCopyWarning: \n",
      "A value is trying to be set on a copy of a slice from a DataFrame.\n",
      "Try using .loc[row_indexer,col_indexer] = value instead\n",
      "\n",
      "See the caveats in the documentation: https://pandas.pydata.org/pandas-docs/stable/user_guide/indexing.html#returning-a-view-versus-a-copy\n",
      "  anonymized_df[col] = anonymized_df[col].map(col_mapping)\n",
      "C:\\Users\\aleba\\AppData\\Local\\Temp\\ipykernel_6748\\1981105969.py:25: SettingWithCopyWarning: \n",
      "A value is trying to be set on a copy of a slice from a DataFrame.\n",
      "Try using .loc[row_indexer,col_indexer] = value instead\n",
      "\n",
      "See the caveats in the documentation: https://pandas.pydata.org/pandas-docs/stable/user_guide/indexing.html#returning-a-view-versus-a-copy\n",
      "  original_df[col] = original_df[col].map(col_mapping)\n"
     ]
    }
   ],
   "source": [
    "statistical_analysis(original_df, anonymized_df, numerical_qis, categorical_qis, ordinal_qis)"
   ]
  },
  {
   "cell_type": "code",
   "execution_count": null,
   "metadata": {},
   "outputs": [],
   "source": []
  },
  {
   "cell_type": "code",
   "execution_count": null,
   "metadata": {},
   "outputs": [],
   "source": []
  }
 ],
 "metadata": {
  "kernelspec": {
   "display_name": "Python 3",
   "language": "python",
   "name": "python3"
  },
  "language_info": {
   "codemirror_mode": {
    "name": "ipython",
    "version": 3
   },
   "file_extension": ".py",
   "mimetype": "text/x-python",
   "name": "python",
   "nbconvert_exporter": "python",
   "pygments_lexer": "ipython3",
   "version": "3.11.4"
  }
 },
 "nbformat": 4,
 "nbformat_minor": 2
}
